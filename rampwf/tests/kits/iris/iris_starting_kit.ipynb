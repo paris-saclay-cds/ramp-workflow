{
 "cells": [
  {
   "cell_type": "markdown",
   "metadata": {},
   "source": [
    "# <a href=\"http://www.datascience-paris-saclay.fr\">Paris Saclay Center for Data Science</a>\n",
    "## Test <a href=http://www.ramp.studio/problems/iris>RAMP on iris</a> \n",
    "\n",
    "<i> Balázs Kégl (LAL/CNRS)</i>"
   ]
  },
  {
   "cell_type": "markdown",
   "metadata": {},
   "source": [
    "## Introduction\n",
    "\n",
    "Iris is a small standard multi-class classification data set from the <a href=\"http://archive.ics.uci.edu/ml/datasets/Iris\">UCI Machine Learning Repository</a>."
   ]
  },
  {
   "cell_type": "code",
   "execution_count": 1,
   "metadata": {
    "collapsed": true
   },
   "outputs": [],
   "source": [
    "from __future__ import print_function\n",
    "\n",
    "%matplotlib inline\n",
    "import numpy as np\n",
    "import pandas as pd\n",
    "import matplotlib.pyplot as plt\n",
    "import seaborn as sns; sns.set()"
   ]
  },
  {
   "cell_type": "markdown",
   "metadata": {},
   "source": [
    "## Fetch the data and load it in pandas"
   ]
  },
  {
   "cell_type": "code",
   "execution_count": 2,
   "metadata": {},
   "outputs": [
    {
     "name": "stdout",
     "output_type": "stream",
     "text": [
      "sepal width,petal length,petal width,species\n",
      "\n",
      "3.5,1.6,0.6,setosa\n",
      "\n",
      "2.8,4.7,1.2,versicolor\n",
      "\n"
     ]
    }
   ],
   "source": [
    "local_filename = 'data/train.csv'\n",
    "\n",
    "# Open file and print the first 3 lines\n",
    "with open(local_filename) as fid:\n",
    "    for line in fid.readlines()[:3]:\n",
    "        print(line)"
   ]
  },
  {
   "cell_type": "code",
   "execution_count": 3,
   "metadata": {
    "collapsed": true
   },
   "outputs": [],
   "source": [
    "data = pd.read_csv(local_filename)"
   ]
  },
  {
   "cell_type": "code",
   "execution_count": 4,
   "metadata": {},
   "outputs": [
    {
     "data": {
      "text/html": [
       "<div>\n",
       "<table border=\"1\" class=\"dataframe\">\n",
       "  <thead>\n",
       "    <tr style=\"text-align: right;\">\n",
       "      <th></th>\n",
       "      <th>sepal width</th>\n",
       "      <th>petal length</th>\n",
       "      <th>petal width</th>\n",
       "      <th>species</th>\n",
       "    </tr>\n",
       "  </thead>\n",
       "  <tbody>\n",
       "    <tr>\n",
       "      <th>0</th>\n",
       "      <td>3.5</td>\n",
       "      <td>1.6</td>\n",
       "      <td>0.6</td>\n",
       "      <td>setosa</td>\n",
       "    </tr>\n",
       "    <tr>\n",
       "      <th>1</th>\n",
       "      <td>2.8</td>\n",
       "      <td>4.7</td>\n",
       "      <td>1.2</td>\n",
       "      <td>versicolor</td>\n",
       "    </tr>\n",
       "    <tr>\n",
       "      <th>2</th>\n",
       "      <td>2.8</td>\n",
       "      <td>4.8</td>\n",
       "      <td>1.4</td>\n",
       "      <td>versicolor</td>\n",
       "    </tr>\n",
       "    <tr>\n",
       "      <th>3</th>\n",
       "      <td>3.1</td>\n",
       "      <td>5.6</td>\n",
       "      <td>2.4</td>\n",
       "      <td>virginica</td>\n",
       "    </tr>\n",
       "    <tr>\n",
       "      <th>4</th>\n",
       "      <td>2.0</td>\n",
       "      <td>3.5</td>\n",
       "      <td>1.0</td>\n",
       "      <td>versicolor</td>\n",
       "    </tr>\n",
       "  </tbody>\n",
       "</table>\n",
       "</div>"
      ],
      "text/plain": [
       "   sepal width  petal length  petal width     species\n",
       "0          3.5           1.6          0.6      setosa\n",
       "1          2.8           4.7          1.2  versicolor\n",
       "2          2.8           4.8          1.4  versicolor\n",
       "3          3.1           5.6          2.4   virginica\n",
       "4          2.0           3.5          1.0  versicolor"
      ]
     },
     "execution_count": 4,
     "metadata": {},
     "output_type": "execute_result"
    }
   ],
   "source": [
    "data.head()"
   ]
  },
  {
   "cell_type": "code",
   "execution_count": 5,
   "metadata": {},
   "outputs": [
    {
     "data": {
      "text/plain": [
       "(96, 4)"
      ]
     },
     "execution_count": 5,
     "metadata": {},
     "output_type": "execute_result"
    }
   ],
   "source": [
    "data.shape"
   ]
  },
  {
   "cell_type": "code",
   "execution_count": 6,
   "metadata": {},
   "outputs": [
    {
     "data": {
      "text/html": [
       "<div>\n",
       "<table border=\"1\" class=\"dataframe\">\n",
       "  <thead>\n",
       "    <tr style=\"text-align: right;\">\n",
       "      <th></th>\n",
       "      <th>sepal width</th>\n",
       "      <th>petal length</th>\n",
       "      <th>petal width</th>\n",
       "    </tr>\n",
       "  </thead>\n",
       "  <tbody>\n",
       "    <tr>\n",
       "      <th>count</th>\n",
       "      <td>96.000000</td>\n",
       "      <td>96.000000</td>\n",
       "      <td>96.000000</td>\n",
       "    </tr>\n",
       "    <tr>\n",
       "      <th>mean</th>\n",
       "      <td>3.028125</td>\n",
       "      <td>3.742708</td>\n",
       "      <td>1.214583</td>\n",
       "    </tr>\n",
       "    <tr>\n",
       "      <th>std</th>\n",
       "      <td>0.430349</td>\n",
       "      <td>1.752397</td>\n",
       "      <td>0.783377</td>\n",
       "    </tr>\n",
       "    <tr>\n",
       "      <th>min</th>\n",
       "      <td>2.000000</td>\n",
       "      <td>1.000000</td>\n",
       "      <td>0.100000</td>\n",
       "    </tr>\n",
       "    <tr>\n",
       "      <th>25%</th>\n",
       "      <td>2.800000</td>\n",
       "      <td>1.600000</td>\n",
       "      <td>0.300000</td>\n",
       "    </tr>\n",
       "    <tr>\n",
       "      <th>50%</th>\n",
       "      <td>3.000000</td>\n",
       "      <td>4.450000</td>\n",
       "      <td>1.300000</td>\n",
       "    </tr>\n",
       "    <tr>\n",
       "      <th>75%</th>\n",
       "      <td>3.300000</td>\n",
       "      <td>5.125000</td>\n",
       "      <td>1.825000</td>\n",
       "    </tr>\n",
       "    <tr>\n",
       "      <th>max</th>\n",
       "      <td>4.200000</td>\n",
       "      <td>6.700000</td>\n",
       "      <td>2.500000</td>\n",
       "    </tr>\n",
       "  </tbody>\n",
       "</table>\n",
       "</div>"
      ],
      "text/plain": [
       "       sepal width  petal length  petal width\n",
       "count    96.000000     96.000000    96.000000\n",
       "mean      3.028125      3.742708     1.214583\n",
       "std       0.430349      1.752397     0.783377\n",
       "min       2.000000      1.000000     0.100000\n",
       "25%       2.800000      1.600000     0.300000\n",
       "50%       3.000000      4.450000     1.300000\n",
       "75%       3.300000      5.125000     1.825000\n",
       "max       4.200000      6.700000     2.500000"
      ]
     },
     "execution_count": 6,
     "metadata": {},
     "output_type": "execute_result"
    }
   ],
   "source": [
    "data.describe()"
   ]
  },
  {
   "cell_type": "code",
   "execution_count": 7,
   "metadata": {},
   "outputs": [
    {
     "data": {
      "image/png": "[encoded data removed]",
      "text/plain": [
       "<matplotlib.figure.Figure at 0x1100e1ad0>"
      ]
     },
     "metadata": {},
     "output_type": "display_data"
    }
   ],
   "source": [
    "data.hist(figsize=(10, 10), bins=50, layout=(3, 2));"
   ]
  },
  {
   "cell_type": "code",
   "execution_count": 8,
   "metadata": {},
   "outputs": [
    {
     "data": {
      "image/png": "[encoded data removed]",
      "text/plain": [
       "<matplotlib.figure.Figure at 0x11419d190>"
      ]
     },
     "metadata": {},
     "output_type": "display_data"
    }
   ],
   "source": [
    "sns.pairplot(data);"
   ]
  },
  {
   "cell_type": "markdown",
   "metadata": {},
   "source": [
    "## Building predictive models"
   ]
  },
  {
   "cell_type": "markdown",
   "metadata": {},
   "source": [
    "The initial classifier in your sandbox. The following cell is *not* executed in the notebook, rather it saves its content in the file in the first line, so you can edit your submission before running the local test below and submitting it at the RAMP site."
   ]
  },
  {
   "cell_type": "code",
   "execution_count": 19,
   "metadata": {},
   "outputs": [
    {
     "name": "stdout",
     "output_type": "stream",
     "text": [
      "Overwriting submissions/starting_kit/classifier.py\n"
     ]
    }
   ],
   "source": [
    "%%file submissions/starting_kit/classifier.py\n",
    "from sklearn.base import BaseEstimator\n",
    "from sklearn.ensemble import RandomForestClassifier\n",
    "\n",
    "\n",
    "class Classifier(BaseEstimator):\n",
    "    def __init__(self):\n",
    "        pass\n",
    "\n",
    "    def fit(self, X, y):\n",
    "        self.clf = RandomForestClassifier(\n",
    "            n_estimators=1, max_leaf_nodes=2, random_state=61)\n",
    "        self.clf.fit(X, y)\n",
    "\n",
    "    def predict(self, X):\n",
    "        return self.clf.predict(X)\n",
    "\n",
    "    def predict_proba(self, X):\n",
    "        return self.clf.predict_proba(X)\n"
   ]
  },
  {
   "cell_type": "markdown",
   "metadata": {
    "collapsed": true
   },
   "source": [
    "## Local testing (before submission)\n",
    "\n",
    "It is <b><span style=\"color:red\">important that you test your submission files before submitting them</span></b>. For this we provide a unit test. Note that the test runs on your files in [`submissions/starting_kit`](http://localhost:8890/tree/submissions/starting_kit).\n",
    "\n",
    "First `pip install ramp-workflow` or install it from the [github repo](https://github.com/paris-saclay-cds/ramp-workflow). Make sure that the python file `classifier.py` is in the  [`submissions/starting_kit`](http://localhost:8890/tree/submissions/starting_kit) folder, and the data `train.csv` and `test.csv` are in [`data`](http://localhost:8890/tree/data). Then run\n",
    "\n",
    "```ramp_test_submission```\n",
    "\n",
    "If it runs and print training and test errors on each fold, then you can submit the code."
   ]
  },
  {
   "cell_type": "code",
   "execution_count": 20,
   "metadata": {},
   "outputs": [
    {
     "name": "stdout",
     "output_type": "stream",
     "text": [
      "Testing Iris classification\n",
      "Reading train and test files from ./data ...\n",
      "Training ./submissions/starting_kit ...\n",
      "CV fold 0\n",
      "\ttrain acc = 0.58\n",
      "\tvalid acc = 0.65\n",
      "\ttest acc = 0.71\n",
      "\ttrain err = 0.42\n",
      "\tvalid err = 0.35\n",
      "\ttest err = 0.29\n",
      "\ttrain nll = 1.17\n",
      "\tvalid nll = 0.52\n",
      "\ttest nll = 0.8\n",
      "/Users/kegl/anaconda/lib/python2.7/site-packages/sklearn/metrics/classification.py:1113: UndefinedMetricWarning: F-score is ill-defined and being set to 0.0 in labels with no predicted samples.\n",
      "  'precision', 'predicted', average, warn_for)\n",
      "\ttrain f1_70 = 0.33\n",
      "\tvalid f1_70 = 0.33\n",
      "\ttest f1_70 = 0.67\n",
      "CV fold 1\n",
      "\ttrain acc = 0.63\n",
      "\tvalid acc = 0.65\n",
      "\ttest acc = 0.54\n",
      "\ttrain err = 0.37\n",
      "\tvalid err = 0.35\n",
      "\ttest err = 0.46\n",
      "\ttrain nll = 0.78\n",
      "\tvalid nll = 0.66\n",
      "\ttest nll = 0.72\n",
      "\ttrain f1_70 = 0.67\n",
      "\tvalid f1_70 = 0.67\n",
      "\ttest f1_70 = 0.33\n",
      "CV fold 2\n",
      "\ttrain acc = 0.62\n",
      "\tvalid acc = 0.7\n",
      "\ttest acc = 0.46\n",
      "\ttrain err = 0.38\n",
      "\tvalid err = 0.3\n",
      "\ttest err = 0.54\n",
      "\ttrain nll = 1.52\n",
      "\tvalid nll = 0.65\n",
      "\ttest nll = 3.43\n",
      "\ttrain f1_70 = 0.33\n",
      "\tvalid f1_70 = 0.67\n",
      "\ttest f1_70 = 0.33\n",
      "CV fold 3\n",
      "\ttrain acc = 0.63\n",
      "\tvalid acc = 0.7\n",
      "\ttest acc = 0.5\n",
      "\ttrain err = 0.37\n",
      "\tvalid err = 0.3\n",
      "\ttest err = 0.5\n",
      "\ttrain nll = 0.73\n",
      "\tvalid nll = 0.63\n",
      "\ttest nll = 0.78\n",
      "\ttrain f1_70 = 0.33\n",
      "\tvalid f1_70 = 0.67\n",
      "\ttest f1_70 = 0.33\n",
      "CV fold 4\n",
      "\ttrain acc = 0.62\n",
      "\tvalid acc = 0.5\n",
      "\ttest acc = 0.5\n",
      "\ttrain err = 0.38\n",
      "\tvalid err = 0.5\n",
      "\ttest err = 0.5\n",
      "\ttrain nll = 0.73\n",
      "\tvalid nll = 1.39\n",
      "\ttest nll = 0.87\n",
      "\ttrain f1_70 = 0.33\n",
      "\tvalid f1_70 = 0.33\n",
      "\ttest f1_70 = 0.33\n",
      "CV fold 5\n",
      "\ttrain acc = 0.64\n",
      "\tvalid acc = 0.65\n",
      "\ttest acc = 0.5\n",
      "\ttrain err = 0.36\n",
      "\tvalid err = 0.35\n",
      "\ttest err = 0.5\n",
      "\ttrain nll = 0.76\n",
      "\tvalid nll = 0.85\n",
      "\ttest nll = 0.91\n",
      "\ttrain f1_70 = 0.67\n",
      "\tvalid f1_70 = 0.67\n",
      "\ttest f1_70 = 0.33\n",
      "CV fold 6\n",
      "\ttrain acc = 0.66\n",
      "\tvalid acc = 0.6\n",
      "\ttest acc = 0.5\n",
      "\ttrain err = 0.34\n",
      "\tvalid err = 0.4\n",
      "\ttest err = 0.5\n",
      "\ttrain nll = 0.68\n",
      "\tvalid nll = 2.4\n",
      "\ttest nll = 0.85\n",
      "\ttrain f1_70 = 0.67\n",
      "\tvalid f1_70 = 0.33\n",
      "\ttest f1_70 = 0.33\n",
      "CV fold 7\n",
      "\ttrain acc = 0.55\n",
      "\tvalid acc = 0.6\n",
      "\ttest acc = 0.71\n",
      "\ttrain err = 0.45\n",
      "\tvalid err = 0.4\n",
      "\ttest err = 0.29\n",
      "\ttrain nll = 1.57\n",
      "\tvalid nll = 0.58\n",
      "\ttest nll = 1.98\n",
      "\ttrain f1_70 = 0.33\n",
      "\tvalid f1_70 = 0.33\n",
      "\ttest f1_70 = 0.67\n",
      "CV fold 8\n",
      "\ttrain acc = 0.63\n",
      "\tvalid acc = 0.65\n",
      "\ttest acc = 0.54\n",
      "\ttrain err = 0.37\n",
      "\tvalid err = 0.35\n",
      "\ttest err = 0.46\n",
      "\ttrain nll = 1.55\n",
      "\tvalid nll = 2.33\n",
      "\ttest nll = 0.72\n",
      "\ttrain f1_70 = 0.67\n",
      "\tvalid f1_70 = 0.67\n",
      "\ttest f1_70 = 0.33\n",
      "CV fold 9\n",
      "\ttrain acc = 0.67\n",
      "\tvalid acc = 0.55\n",
      "\ttest acc = 0.5\n",
      "\ttrain err = 0.33\n",
      "\tvalid err = 0.45\n",
      "\ttest err = 0.5\n",
      "\ttrain nll = 0.62\n",
      "\tvalid nll = 4.07\n",
      "\ttest nll = 2.09\n",
      "\ttrain f1_70 = 0.67\n",
      "\tvalid f1_70 = 0.33\n",
      "\ttest f1_70 = 0.33\n",
      "----------------------------\n",
      "train acc = 0.62 ± 0.033\n",
      "train err = 0.38 ± 0.033\n",
      "train nll = 1.01 ± 0.378\n",
      "train f1_70 = 0.5 ± 0.167\n",
      "valid acc = 0.63 ± 0.06\n",
      "valid err = 0.38 ± 0.06\n",
      "valid nll = 1.41 ± 1.115\n",
      "valid f1_70 = 0.5 ± 0.167\n",
      "test acc = 0.55 ± 0.084\n",
      "test err = 0.45 ± 0.084\n",
      "test nll = 1.31 ± 0.858\n",
      "test f1_70 = 0.4 ± 0.133\n",
      "----------------------------\n",
      "Testing if the notebook can be converted to html\n",
      "[NbConvertApp] Converting notebook ./iris_starting_kit.ipynb to html\n",
      "[NbConvertApp] Writing 339429 bytes to ./iris_starting_kit.html\n"
     ]
    }
   ],
   "source": [
    "!ramp_test_submission"
   ]
  },
  {
   "cell_type": "markdown",
   "metadata": {},
   "source": [
    "Alternatively, load and execute `rampwf.utils.testing.py`, and call `assert_submission`. This may be useful if you would like to understand how we instantiate the workflow, the scores, the data connectors, and the cross validation scheme defined in [`problem.py`](problem.py), and how we insert and train/test your submission."
   ]
  },
  {
   "cell_type": "code",
   "execution_count": 11,
   "metadata": {
    "collapsed": true
   },
   "outputs": [],
   "source": [
    "# %load https://raw.githubusercontent.com/paris-saclay-cds/ramp-workflow/master/rampwf/utils/testing.py"
   ]
  },
  {
   "cell_type": "code",
   "execution_count": 18,
   "metadata": {
    "collapsed": true
   },
   "outputs": [],
   "source": [
    "# assert_submission()"
   ]
  },
  {
   "cell_type": "markdown",
   "metadata": {
    "collapsed": true
   },
   "source": [
    "## Submitting to [ramp.studio](http://ramp.studio)\n",
    "\n",
    "Once you found a good classifier, you can submit it to [ramp.studio](http://www.ramp.studio). First, if it is your first time using RAMP, [sign up](http://www.ramp.studio/sign_up), otherwise [log in](http://www.ramp.studio/login). Then find an open event on the particular problem, for example, the event [iris_test](http://www.ramp.studio/events/iris_test) for this RAMP. Sign up for the event. Both signups are controled by RAMP administrators, so there **can be a delay between asking for signup and being able to submit**.\n",
    "\n",
    "Once your signup request is accepted, you can go to your [sandbox](http://www.ramp.studio/events/iris_test/sandbox) and copy-paste (or upload) [`classifier.py`](http://localhost:8890/edit/submissions/starting_kit/classifier.py) from `submissions/starting_kit`. Save it, rename it, then submit it. The submission is trained and tested on our backend in the same way as `ramp_test_submission` does it locally. While your submission is waiting in the queue and being trained, you can find it in the \"New submissions (pending training)\" table in [my submissions](http://www.ramp.studio/events/iris_test/my_submissions). Once it is trained, you get a mail, and your submission shows up on the [public leaderboard](http://www.ramp.studio/events/iris_test/leaderboard). \n",
    "If there is an error (despite having tested your submission locally with `ramp_test_submission`), it will show up in the \"Failed submissions\" table in [my submissions](http://www.ramp.studio/events/iris_test/my_submissions). You can click on the error to see part of the trace.\n",
    "\n",
    "After submission, do not forget to give credits to the previous submissions you reused or integrated into your submission.\n",
    "\n",
    "The data set we use at the backend is usually different from what you find in the starting kit, so the score may be different.\n",
    "\n",
    "The usual way to work with RAMP is to explore solutions, add feature transformations, select models, perhaps do some AutoML/hyperopt, etc., _locally_, and checking them with `ramp_test_submission`. The script prints mean cross-validation scores \n",
    "```\n",
    "----------------------------\n",
    "train acc = 0.62 ± 0.033\n",
    "train err = 0.38 ± 0.033\n",
    "train nll = 1.01 ± 0.378\n",
    "train f1_70 = 0.5 ± 0.167\n",
    "valid acc = 0.63 ± 0.06\n",
    "valid err = 0.38 ± 0.06\n",
    "valid nll = 1.41 ± 1.115\n",
    "valid f1_70 = 0.5 ± 0.167\n",
    "test acc = 0.55 ± 0.084\n",
    "test err = 0.45 ± 0.084\n",
    "test nll = 1.31 ± 0.858\n",
    "test f1_70 = 0.4 ± 0.133\n",
    "```\n",
    "The official score in this RAMP (the first score column after \"historical contributivity\" on the [leaderboard](http://www.ramp.studio/events/iris_test/leaderboard)) is accuracy (\"acc\"), so the line that is relevant in the output of `ramp_test_submission` is `valid acc = 0.63 ± 0.06`. When the score is good enough, you can submit it at the RAMP."
   ]
  },
  {
   "cell_type": "markdown",
   "metadata": {},
   "source": [
    "## More information\n",
    "\n",
    "You can find more information in the [README](https://github.com/paris-saclay-cds/ramp-workflow/blob/master/README.md) of the [ramp-workflow library](https://github.com/paris-saclay-cds/ramp-workflow)."
   ]
  },
  {
   "cell_type": "markdown",
   "metadata": {},
   "source": [
    "## Contact\n",
    "\n",
    "Don't hesitate to [contact us](mailto:admin@ramp.studio?subject=iris notebook)."
   ]
  }
 ],
 "metadata": {
  "kernelspec": {
   "display_name": "Python 3",
   "language": "python",
   "name": "python3"
  },
  "language_info": {
   "codemirror_mode": {
    "name": "ipython",
    "version": 3
   },
   "file_extension": ".py",
   "mimetype": "text/x-python",
   "name": "python",
   "nbconvert_exporter": "python",
   "pygments_lexer": "ipython3",
   "version": "3.7.4"
  }
 },
 "nbformat": 4,
 "nbformat_minor": 1
}
